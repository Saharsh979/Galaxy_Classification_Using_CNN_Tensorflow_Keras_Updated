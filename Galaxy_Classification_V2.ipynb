{
 "cells": [
  {
   "cell_type": "code",
   "execution_count": 1,
   "id": "327b1186",
   "metadata": {},
   "outputs": [],
   "source": [
    "#Importing libraries\n",
    "%matplotlib inline\n",
    "import matplotlib.pyplot as plt\n",
    "import numpy as np\n",
    "import pandas as pd\n",
    "import os, random, shutil\n",
    "import tensorflow as tf\n",
    "import seaborn\n",
    "from tensorflow import keras\n",
    "from tensorflow.keras import preprocessing, layers\n",
    "from tensorflow.keras.callbacks import EarlyStopping\n",
    "from keras_preprocessing import image\n",
    "import PIL\n",
    "import cv2\n",
    "from keras.constraints import maxnorm\n",
    "from tensorflow.keras import layers\n",
    "from tensorflow.keras.models import Sequential\n",
    "from keras.models import load_model\n",
    "from keras.layers import GlobalAveragePooling2D, Lambda, Conv2D, MaxPooling2D, Dropout, Dense, Flatten, Activation\n",
    "from keras.preprocessing.image import ImageDataGenerator\n"
   ]
  },
  {
   "cell_type": "code",
   "execution_count": 2,
   "id": "72207dd1",
   "metadata": {},
   "outputs": [],
   "source": [
    "dataset_url = \"https://drive.google.com/file/d/1x3Y4e5j6vI_-uu91Vk-xR-1WlknZquUK/view?usp=sharing\"\n",
    "data_dir = tf.keras.utils.get_file('Dataset 30 New', origin=dataset_url,  cache_dir='.', untar=True)"
   ]
  },
  {
   "cell_type": "code",
   "execution_count": 3,
   "id": "af9e2713",
   "metadata": {},
   "outputs": [
    {
     "data": {
      "text/plain": [
       "'./datasets/Dataset 30 New'"
      ]
     },
     "execution_count": 3,
     "metadata": {},
     "output_type": "execute_result"
    }
   ],
   "source": [
    "data_dir"
   ]
  },
  {
   "cell_type": "code",
   "execution_count": 4,
   "id": "d439b277",
   "metadata": {},
   "outputs": [
    {
     "data": {
      "text/plain": [
       "PosixPath('datasets/Dataset 30 New')"
      ]
     },
     "execution_count": 4,
     "metadata": {},
     "output_type": "execute_result"
    }
   ],
   "source": [
    "import pathlib\n",
    "data_dir = pathlib.Path(data_dir)\n",
    "data_dir"
   ]
  },
  {
   "cell_type": "code",
   "execution_count": 5,
   "id": "2ed4f585",
   "metadata": {},
   "outputs": [
    {
     "name": "stdout",
     "output_type": "stream",
     "text": [
      "150\n"
     ]
    }
   ],
   "source": [
    "image_count =  len(list(data_dir.glob('*/*.png'))) + len(list(data_dir.glob('*/*.jpg')))  + len(list(data_dir.glob('*/*.jpeg'))) \n",
    "print(image_count)"
   ]
  },
  {
   "cell_type": "code",
   "execution_count": 6,
   "id": "c4218530",
   "metadata": {},
   "outputs": [],
   "source": [
    "Galaxy_images_dict= {\n",
    "    'disk': list(data_dir.glob('Disk Galaxy/*')),\n",
    "    'elliptical': list(data_dir.glob('Elliptical Galaxy/*')),\n",
    "    'irregular': list(data_dir.glob('Irregular Galaxy/*')),\n",
    "    'lenticular': list(data_dir.glob('Lenticular Galaxy/*')),\n",
    "    'spiral':list(data_dir.glob('Spiral Galaxy/*')),\n",
    "}\n",
    "Galaxy_labels_dict = {\n",
    "    'disk':0,\n",
    "    'elliptical': 1,\n",
    "    'irregular': 2,\n",
    "    'lenticular': 3,\n",
    "    'spiral': 4,\n",
    "}"
   ]
  },
  {
   "cell_type": "code",
   "execution_count": 7,
   "id": "8497e817",
   "metadata": {},
   "outputs": [],
   "source": [
    "img =  cv2.imread(str(Galaxy_images_dict['disk'][4]))"
   ]
  },
  {
   "cell_type": "code",
   "execution_count": 8,
   "id": "4328dd8e",
   "metadata": {},
   "outputs": [
    {
     "data": {
      "text/plain": [
       "(300, 300, 3)"
      ]
     },
     "execution_count": 8,
     "metadata": {},
     "output_type": "execute_result"
    }
   ],
   "source": [
    "img.shape"
   ]
  },
  {
   "cell_type": "code",
   "execution_count": 9,
   "id": "356432ad",
   "metadata": {},
   "outputs": [],
   "source": [
    "X, y = [],[]\n",
    "\n",
    "for Galaxy_name, images in Galaxy_images_dict.items():\n",
    "    for image in images:\n",
    "        img= cv2.imread(str(image))\n",
    "        resized_img =  cv2.resize(img,(180,180))\n",
    "        X.append(resized_img)\n",
    "        y.append(Galaxy_labels_dict[Galaxy_name])"
   ]
  },
  {
   "cell_type": "code",
   "execution_count": 10,
   "id": "bdf449f2",
   "metadata": {},
   "outputs": [],
   "source": [
    "X =  np.array(X)\n",
    "y = np.array(y)"
   ]
  },
  {
   "cell_type": "code",
   "execution_count": 11,
   "id": "92d08049",
   "metadata": {},
   "outputs": [
    {
     "data": {
      "text/plain": [
       "(150, 180, 180, 3)"
      ]
     },
     "execution_count": 11,
     "metadata": {},
     "output_type": "execute_result"
    }
   ],
   "source": [
    "X.shape"
   ]
  },
  {
   "cell_type": "code",
   "execution_count": 12,
   "id": "7e8faa75",
   "metadata": {},
   "outputs": [
    {
     "data": {
      "text/plain": [
       "(150,)"
      ]
     },
     "execution_count": 12,
     "metadata": {},
     "output_type": "execute_result"
    }
   ],
   "source": [
    "y.shape"
   ]
  },
  {
   "cell_type": "code",
   "execution_count": 13,
   "id": "ad892fe2",
   "metadata": {},
   "outputs": [],
   "source": [
    "from sklearn.model_selection import train_test_split\n",
    "X_train, X_test, y_train, y_test = train_test_split(X, y, test_size=0.33,random_state=0)"
   ]
  },
  {
   "cell_type": "code",
   "execution_count": 14,
   "id": "69b0e083",
   "metadata": {},
   "outputs": [],
   "source": [
    "X_train_scaled = X_train / 255\n",
    "X_test_scaled = X_test / 255"
   ]
  },
  {
   "cell_type": "code",
   "execution_count": 25,
   "id": "dba425fa",
   "metadata": {},
   "outputs": [],
   "source": [
    "num_classes = 5\n",
    "\n",
    "model = Sequential([\n",
    "    layers.Conv2D(32,(3,3), padding='same', activation='relu', input_shape=(180,180,3)),\n",
    "    layers.Conv2D(32,(3,3), padding='same', activation='relu', input_shape=(180,180,3)),\n",
    "    layers.MaxPooling2D(2,2),\n",
    "    layers.Conv2D(64,(3,3), padding='same', activation='relu'),\n",
    "    layers.Conv2D(64,(3,3), padding='same', activation='relu'),\n",
    "    layers.MaxPooling2D(2,2),\n",
    "    layers.Conv2D(128,(3,3), padding='same', activation='relu'),\n",
    "    layers.Conv2D(128,(3,3), padding='same', activation='relu'),\n",
    "    layers.MaxPooling2D(2,2),  \n",
    "    layers.Flatten(),\n",
    "    layers.Dropout(0.5),\n",
    "    layers.Dense(2048, activation='relu'),\n",
    "    layers.Dense(2048, activation='relu'),\n",
    "    layers.Dense(num_classes)    \n",
    "])\n"
   ]
  },
  {
   "cell_type": "code",
   "execution_count": null,
   "id": "3aa92e54",
   "metadata": {
    "scrolled": true
   },
   "outputs": [
    {
     "name": "stdout",
     "output_type": "stream",
     "text": [
      "Epoch 1/30\n"
     ]
    }
   ],
   "source": [
    "model.compile(optimizer='adam',\n",
    "              loss=tf.keras.losses.SparseCategoricalCrossentropy(from_logits=True),\n",
    "              metrics=['accuracy'])\n",
    "early_stop = EarlyStopping(monitor = 'val_accuracy', mode = 'max', patience=10, restore_best_weights=False)\n",
    "model.fit(X_train_scaled, y_train, epochs=30)"
   ]
  },
  {
   "cell_type": "code",
   "execution_count": 17,
   "id": "dbda1412",
   "metadata": {},
   "outputs": [
    {
     "name": "stdout",
     "output_type": "stream",
     "text": [
      "2/2 [==============================] - 2s 436ms/step - loss: 2.6821 - accuracy: 0.6800\n",
      "Model: \"sequential\"\n",
      "_________________________________________________________________\n",
      "Layer (type)                 Output Shape              Param #   \n",
      "=================================================================\n",
      "conv2d (Conv2D)              (None, 180, 180, 32)      896       \n",
      "_________________________________________________________________\n",
      "conv2d_1 (Conv2D)            (None, 180, 180, 32)      9248      \n",
      "_________________________________________________________________\n",
      "max_pooling2d (MaxPooling2D) (None, 90, 90, 32)        0         \n",
      "_________________________________________________________________\n",
      "conv2d_2 (Conv2D)            (None, 90, 90, 64)        18496     \n",
      "_________________________________________________________________\n",
      "conv2d_3 (Conv2D)            (None, 90, 90, 64)        36928     \n",
      "_________________________________________________________________\n",
      "max_pooling2d_1 (MaxPooling2 (None, 45, 45, 64)        0         \n",
      "_________________________________________________________________\n",
      "conv2d_4 (Conv2D)            (None, 45, 45, 128)       73856     \n",
      "_________________________________________________________________\n",
      "conv2d_5 (Conv2D)            (None, 45, 45, 128)       147584    \n",
      "_________________________________________________________________\n",
      "max_pooling2d_2 (MaxPooling2 (None, 22, 22, 128)       0         \n",
      "_________________________________________________________________\n",
      "flatten (Flatten)            (None, 61952)             0         \n",
      "_________________________________________________________________\n",
      "dropout (Dropout)            (None, 61952)             0         \n",
      "_________________________________________________________________\n",
      "dense (Dense)                (None, 75)                4646475   \n",
      "_________________________________________________________________\n",
      "dense_1 (Dense)              (None, 75)                5700      \n",
      "_________________________________________________________________\n",
      "dense_2 (Dense)              (None, 5)                 380       \n",
      "=================================================================\n",
      "Total params: 4,939,563\n",
      "Trainable params: 4,939,563\n",
      "Non-trainable params: 0\n",
      "_________________________________________________________________\n"
     ]
    }
   ],
   "source": [
    "model.evaluate(X_test_scaled,y_test)\n",
    "model.summary()"
   ]
  },
  {
   "cell_type": "code",
   "execution_count": 18,
   "id": "8167fa1d",
   "metadata": {},
   "outputs": [],
   "source": [
    "from sklearn.metrics import confusion_matrix , classification_report\n",
    "import numpy as np"
   ]
  },
  {
   "cell_type": "code",
   "execution_count": 19,
   "id": "1d9fb895",
   "metadata": {},
   "outputs": [],
   "source": [
    "from sklearn.metrics import confusion_matrix , classification_report\n",
    "import numpy as np\n",
    "y_predict =  model.predict(X_test_scaled)\n",
    "y_predict_classes = [np.argmax(element) for element in y_predict]\n",
    "print(\"Classification Report: \\n\", classification_report(y_test, y_predict_classes))\n",
    "cm = tf.math.confusion_matrix(labels=y_test,predictions=y_predict_classes)\n",
    "cm"
   ]
  },
  {
   "cell_type": "code",
   "execution_count": 20,
   "id": "825732da",
   "metadata": {},
   "outputs": [
    {
     "name": "stdout",
     "output_type": "stream",
     "text": [
      "Classification Report: \n",
      "               precision    recall  f1-score   support\n",
      "\n",
      "           0       0.75      0.60      0.67        10\n",
      "           1       0.55      0.67      0.60         9\n",
      "           2       0.67      0.67      0.67        12\n",
      "           3       0.60      0.55      0.57        11\n",
      "           4       0.89      1.00      0.94         8\n",
      "\n",
      "    accuracy                           0.68        50\n",
      "   macro avg       0.69      0.70      0.69        50\n",
      "weighted avg       0.68      0.68      0.68        50\n",
      "\n"
     ]
    }
   ],
   "source": [
    "print(\"Classification Report: \\n\", classification_report(y_test, y_predict_classes))"
   ]
  },
  {
   "cell_type": "code",
   "execution_count": 21,
   "id": "8ca247c2",
   "metadata": {},
   "outputs": [
    {
     "data": {
      "text/plain": [
       "<tf.Tensor: shape=(5, 5), dtype=int32, numpy=\n",
       "array([[6, 0, 4, 0, 0],\n",
       "       [0, 6, 0, 3, 0],\n",
       "       [2, 0, 8, 1, 1],\n",
       "       [0, 5, 0, 6, 0],\n",
       "       [0, 0, 0, 0, 8]], dtype=int32)>"
      ]
     },
     "execution_count": 21,
     "metadata": {},
     "output_type": "execute_result"
    }
   ],
   "source": [
    "cm = tf.math.confusion_matrix(labels=y_test,predictions=y_predict_classes)\n",
    "cm"
   ]
  },
  {
   "cell_type": "code",
   "execution_count": 22,
   "id": "1692874a",
   "metadata": {},
   "outputs": [
    {
     "data": {
      "text/plain": [
       "Text(69.0, 0.5, 'Truth')"
      ]
     },
     "execution_count": 22,
     "metadata": {},
     "output_type": "execute_result"
    },
    {
     "data": {
      "image/png": "[encoded data removed]",
      "text/plain": [
       "<Figure size 720x504 with 2 Axes>"
      ]
     },
     "metadata": {
      "needs_background": "light"
     },
     "output_type": "display_data"
    }
   ],
   "source": [
    "import seaborn as sn\n",
    "plt.figure(figsize = (10,7))\n",
    "sn.heatmap(cm, annot=True, fmt='d')\n",
    "plt.xlabel('Predicted')\n",
    "plt.ylabel('Truth')"
   ]
  }
 ],
 "metadata": {
  "kernelspec": {
   "display_name": "Python 3",
   "language": "python",
   "name": "python3"
  },
  "language_info": {
   "codemirror_mode": {
    "name": "ipython",
    "version": 3
   },
   "file_extension": ".py",
   "mimetype": "text/x-python",
   "name": "python",
   "nbconvert_exporter": "python",
   "pygments_lexer": "ipython3",
   "version": "3.8.8"
  }
 },
 "nbformat": 4,
 "nbformat_minor": 5
}
