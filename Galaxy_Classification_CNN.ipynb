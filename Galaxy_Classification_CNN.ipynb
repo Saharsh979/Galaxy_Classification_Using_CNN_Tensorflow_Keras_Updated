{
  "nbformat": 4,
  "nbformat_minor": 0,
  "metadata": {
    "colab": {
      "name": "Galaxy_Classification_CNN.ipynb",
      "provenance": [],
      "collapsed_sections": [],
      "authorship_tag": "ABX9TyPWnEU2TAHMBAziorQSlAPG",
      "include_colab_link": true
    },
    "kernelspec": {
      "display_name": "Python 3",
      "name": "python3"
    },
    "language_info": {
      "name": "python"
    }
  },
  "cells": [
    {
      "cell_type": "markdown",
      "metadata": {
        "id": "view-in-github",
        "colab_type": "text"
      },
      "source": [
        "<a href=\"https://colab.research.google.com/github/Saharsh979/Galaxy_Classification_Using_CNN_Tensorflow_Keras_Updated/blob/master/Galaxy_Classification_CNN.ipynb\" target=\"_parent\"><img src=\"https://colab.research.google.com/assets/colab-badge.svg\" alt=\"Open In Colab\"/></a>"
      ]
    },
    {
      "cell_type": "code",
      "metadata": {
        "colab": {
          "base_uri": "https://localhost:8080/"
        },
        "id": "aLPdkNK_DVb2",
        "outputId": "dfdae3ea-cc0c-45d4-bd82-9f0662b79e32"
      },
      "source": [
        "from google.colab import drive\n",
        "drive.mount(\"/content/drive\")"
      ],
      "execution_count": null,
      "outputs": [
        {
          "output_type": "stream",
          "text": [
            "Mounted at /content/drive\n"
          ],
          "name": "stdout"
        }
      ]
    },
    {
      "cell_type": "code",
      "metadata": {
        "id": "mhk734eGDkbK"
      },
      "source": [
        "Dataset = '/content/drive/MyDrive/Dataset 60 New'"
      ],
      "execution_count": null,
      "outputs": []
    },
    {
      "cell_type": "code",
      "metadata": {
        "colab": {
          "base_uri": "https://localhost:8080/"
        },
        "id": "WViJjAyNxCMP",
        "outputId": "a4ddf57d-ea0b-4465-ff2c-98bc45cd8f17"
      },
      "source": [
        "from google.colab import drive\n",
        "drive.mount('/content/drive')"
      ],
      "execution_count": null,
      "outputs": [
        {
          "output_type": "stream",
          "text": [
            "Drive already mounted at /content/drive; to attempt to forcibly remount, call drive.mount(\"/content/drive\", force_remount=True).\n"
          ],
          "name": "stdout"
        }
      ]
    },
    {
      "cell_type": "code",
      "metadata": {
        "id": "t_zhuqL9DsW2"
      },
      "source": [
        "#Importing libraries\n",
        "%matplotlib inline\n",
        "import matplotlib.pyplot as plt\n",
        "import numpy as np\n",
        "import pandas as pd\n",
        "import os, random, shutil\n",
        "import tensorflow as tf\n",
        "import seaborn\n",
        "from glob import glob\n",
        "from tensorflow import keras\n",
        "from tensorflow.keras import preprocessing, layers\n",
        "from tensorflow.keras.callbacks import EarlyStopping\n",
        "from keras_preprocessing import image\n",
        "import PIL\n",
        "import cv2\n",
        "from keras.constraints import maxnorm\n",
        "from keras.models import Model\n",
        "from tensorflow.keras import layers\n",
        "from tensorflow.keras.models import Sequential\n",
        "from keras.models import load_model\n",
        "from keras.layers import GlobalAveragePooling2D, Lambda, Conv2D, MaxPooling2D, Dropout, Dense, Flatten, Activation\n",
        "from keras.preprocessing.image import ImageDataGenerator"
      ],
      "execution_count": null,
      "outputs": []
    },
    {
      "cell_type": "code",
      "metadata": {
        "colab": {
          "base_uri": "https://localhost:8080/"
        },
        "id": "Mb6H1THQDz0O",
        "outputId": "7e0d1d1d-0ac2-482f-d47d-317630ff5dc5"
      },
      "source": [
        "total_images = 0\n",
        "for c in ['Disk Galaxy', 'Elliptical Galaxy', 'Irregular Galaxy', 'Lenticular Galaxy', 'Spiral Galaxy']:\n",
        "  total_images += len(os.listdir(os.path.join(Dataset, c)))\n",
        "print('Total:', total_images)"
      ],
      "execution_count": null,
      "outputs": [
        {
          "output_type": "stream",
          "text": [
            "Total: 300\n"
          ],
          "name": "stdout"
        }
      ]
    },
    {
      "cell_type": "code",
      "metadata": {
        "colab": {
          "base_uri": "https://localhost:8080/",
          "height": 35
        },
        "id": "hy2rsN_tEFYg",
        "outputId": "ac5ff243-0b06-4959-fc30-5c55dc38b683"
      },
      "source": [
        "Dataset"
      ],
      "execution_count": null,
      "outputs": [
        {
          "output_type": "execute_result",
          "data": {
            "application/vnd.google.colaboratory.intrinsic+json": {
              "type": "string"
            },
            "text/plain": [
              "'/content/drive/MyDrive/Dataset 60 New'"
            ]
          },
          "metadata": {
            "tags": []
          },
          "execution_count": 6
        }
      ]
    },
    {
      "cell_type": "code",
      "metadata": {
        "colab": {
          "base_uri": "https://localhost:8080/"
        },
        "id": "NlkZW6_jEgnp",
        "outputId": "3dd87093-d130-4d6d-e1f2-a56c59515697"
      },
      "source": [
        "import pathlib\n",
        "data_dir = pathlib.Path(Dataset)\n",
        "data_dir"
      ],
      "execution_count": null,
      "outputs": [
        {
          "output_type": "execute_result",
          "data": {
            "text/plain": [
              "PosixPath('/content/drive/MyDrive/Dataset 60 New')"
            ]
          },
          "metadata": {
            "tags": []
          },
          "execution_count": 7
        }
      ]
    },
    {
      "cell_type": "code",
      "metadata": {
        "id": "zz4WjdMkEood"
      },
      "source": [
        "Galaxy_images_dict= {\n",
        "    'disk': list(data_dir.glob('Disk Galaxy/*')),\n",
        "    'elliptical': list(data_dir.glob('Elliptical Galaxy/*')),\n",
        "    'irregular': list(data_dir.glob('Irregular Galaxy/*')),\n",
        "    'lenticular': list(data_dir.glob('Lenticular Galaxy/*')),\n",
        "    'spiral':list(data_dir.glob('Spiral Galaxy/*')),\n",
        "}\n",
        "Galaxy_labels_dict = {\n",
        "    'disk':0,\n",
        "    'elliptical': 1,\n",
        "    'irregular': 2,\n",
        "    'lenticular': 3,\n",
        "    'spiral': 4,\n",
        "}"
      ],
      "execution_count": null,
      "outputs": []
    },
    {
      "cell_type": "code",
      "metadata": {
        "id": "HSczUK9jEqWw"
      },
      "source": [
        "img =  cv2.imread(str(Galaxy_images_dict['disk'][4]))"
      ],
      "execution_count": null,
      "outputs": []
    },
    {
      "cell_type": "code",
      "metadata": {
        "colab": {
          "base_uri": "https://localhost:8080/"
        },
        "id": "Xc0YtPsGEx9_",
        "outputId": "d86da862-96bb-4778-cad7-8895ae167825"
      },
      "source": [
        "img.shape"
      ],
      "execution_count": null,
      "outputs": [
        {
          "output_type": "execute_result",
          "data": {
            "text/plain": [
              "(300, 300, 3)"
            ]
          },
          "metadata": {
            "tags": []
          },
          "execution_count": 10
        }
      ]
    },
    {
      "cell_type": "code",
      "metadata": {
        "id": "--IrUSOGE1EY"
      },
      "source": [
        "X, y = [],[]\n",
        "\n",
        "for Galaxy_name, images in Galaxy_images_dict.items():\n",
        "    for image in images:\n",
        "        img= cv2.imread(str(image))\n",
        "        resized_img =  cv2.resize(img,(180,180))\n",
        "        X.append(resized_img)\n",
        "        y.append(Galaxy_labels_dict[Galaxy_name])"
      ],
      "execution_count": null,
      "outputs": []
    },
    {
      "cell_type": "code",
      "metadata": {
        "id": "w5hPtYg_Fbrn"
      },
      "source": [
        "X =  np.array(X)\n",
        "y = np.array(y)"
      ],
      "execution_count": null,
      "outputs": []
    },
    {
      "cell_type": "code",
      "metadata": {
        "colab": {
          "base_uri": "https://localhost:8080/"
        },
        "id": "KzRzAQmiFhN8",
        "outputId": "bbc01608-536b-4542-bb03-d343cf3c7512"
      },
      "source": [
        "X.shape"
      ],
      "execution_count": null,
      "outputs": [
        {
          "output_type": "execute_result",
          "data": {
            "text/plain": [
              "(300, 180, 180, 3)"
            ]
          },
          "metadata": {
            "tags": []
          },
          "execution_count": 13
        }
      ]
    },
    {
      "cell_type": "code",
      "metadata": {
        "id": "GoMDNDYsFl7d"
      },
      "source": [
        "from sklearn.model_selection import train_test_split\n",
        "X_train, X_test, y_train, y_test = train_test_split(X, y, test_size=0.33,random_state=0)"
      ],
      "execution_count": null,
      "outputs": []
    },
    {
      "cell_type": "code",
      "metadata": {
        "id": "eIOuLzHKFp7Z"
      },
      "source": [
        "X_train_scaled = X_train / 255\n",
        "X_test_scaled = X_test / 255"
      ],
      "execution_count": null,
      "outputs": []
    },
    {
      "cell_type": "code",
      "metadata": {
        "id": "a-B6SZTHFsLd"
      },
      "source": [
        "num_classes = 5\n",
        "\n",
        "model = Sequential([\n",
        "    layers.Conv2D(180,(3,3), padding='same', activation='relu', input_shape=(180,180,3)),\n",
        "    layers.MaxPooling2D(2,2),\n",
        "    layers.Conv2D(190,(3,3), padding='same', activation='relu'),\n",
        "    layers.MaxPooling2D(2,2),\n",
        "    layers.Conv2D(200,(3,3), padding='same', activation='relu'),\n",
        "    layers.MaxPooling2D(2,2),  \n",
        "    layers.Flatten(),\n",
        "    layers.Dropout(0.5),\n",
        "    layers.Dense(200, activation='relu'),\n",
        "    layers.Dense(300, activation='relu'),\n",
        "    layers.Dense(400, activation='relu'),\n",
        "    layers.Dense(500, activation='relu'),\n",
        "    layers.Dense(num_classes)    \n",
        "])\n"
      ],
      "execution_count": null,
      "outputs": []
    },
    {
      "cell_type": "code",
      "metadata": {
        "colab": {
          "base_uri": "https://localhost:8080/"
        },
        "id": "y-m9pRGGFvak",
        "outputId": "105c3fe1-eca9-4090-d1b7-425b404b59ec"
      },
      "source": [
        "model.compile(optimizer='adam',\n",
        "              loss=tf.keras.losses.SparseCategoricalCrossentropy(from_logits=True),\n",
        "              metrics=['accuracy'])\n",
        "\n",
        "early_stop = EarlyStopping(monitor = 'val_accuracy', mode = 'max', patience=10, restore_best_weights=False)\n",
        "model.fit(X_train_scaled, y_train, epochs=50)"
      ],
      "execution_count": null,
      "outputs": [
        {
          "output_type": "stream",
          "text": [
            "Epoch 1/50\n",
            "7/7 [==============================] - 89s 12s/step - loss: 1.6336 - accuracy: 0.2090\n",
            "Epoch 2/50\n",
            "7/7 [==============================] - 87s 12s/step - loss: 1.4837 - accuracy: 0.3930\n",
            "Epoch 3/50\n",
            "7/7 [==============================] - 87s 12s/step - loss: 1.2132 - accuracy: 0.4925\n",
            "Epoch 4/50\n",
            "7/7 [==============================] - 87s 12s/step - loss: 0.9107 - accuracy: 0.6468\n",
            "Epoch 5/50\n",
            "7/7 [==============================] - 87s 12s/step - loss: 0.5597 - accuracy: 0.7910\n",
            "Epoch 6/50\n",
            "7/7 [==============================] - 87s 12s/step - loss: 0.3737 - accuracy: 0.8806\n",
            "Epoch 7/50\n",
            "7/7 [==============================] - 87s 12s/step - loss: 0.1247 - accuracy: 0.9602\n",
            "Epoch 8/50\n",
            "7/7 [==============================] - 87s 12s/step - loss: 0.0675 - accuracy: 0.9851\n",
            "Epoch 9/50\n",
            "7/7 [==============================] - 87s 12s/step - loss: 0.0892 - accuracy: 0.9701\n",
            "Epoch 10/50\n",
            "7/7 [==============================] - 87s 12s/step - loss: 0.1016 - accuracy: 0.9701\n",
            "Epoch 11/50\n",
            "7/7 [==============================] - 88s 12s/step - loss: 0.1270 - accuracy: 0.9751\n",
            "Epoch 12/50\n",
            "7/7 [==============================] - 87s 12s/step - loss: 0.1034 - accuracy: 0.9552\n",
            "Epoch 13/50\n",
            "7/7 [==============================] - 87s 12s/step - loss: 0.0500 - accuracy: 0.9900\n",
            "Epoch 14/50\n",
            "7/7 [==============================] - 87s 12s/step - loss: 0.0324 - accuracy: 0.9950\n",
            "Epoch 15/50\n",
            "7/7 [==============================] - 87s 12s/step - loss: 0.0210 - accuracy: 0.9900\n",
            "Epoch 16/50\n",
            "7/7 [==============================] - 86s 12s/step - loss: 0.0206 - accuracy: 0.9950\n",
            "Epoch 17/50\n",
            "7/7 [==============================] - 87s 12s/step - loss: 0.0052 - accuracy: 1.0000\n",
            "Epoch 18/50\n",
            "7/7 [==============================] - 87s 12s/step - loss: 0.0020 - accuracy: 1.0000\n",
            "Epoch 19/50\n",
            "7/7 [==============================] - 87s 12s/step - loss: 2.6482e-04 - accuracy: 1.0000\n",
            "Epoch 20/50\n",
            "7/7 [==============================] - 86s 12s/step - loss: 0.0018 - accuracy: 1.0000\n",
            "Epoch 21/50\n",
            "7/7 [==============================] - 87s 12s/step - loss: 0.0455 - accuracy: 0.9950\n",
            "Epoch 22/50\n",
            "7/7 [==============================] - 87s 12s/step - loss: 0.0466 - accuracy: 0.9801\n",
            "Epoch 23/50\n",
            "7/7 [==============================] - 86s 12s/step - loss: 0.0220 - accuracy: 0.9950\n",
            "Epoch 24/50\n",
            "7/7 [==============================] - 86s 12s/step - loss: 0.0071 - accuracy: 0.9950\n",
            "Epoch 25/50\n",
            "7/7 [==============================] - 86s 12s/step - loss: 7.9302e-04 - accuracy: 1.0000\n",
            "Epoch 26/50\n",
            "7/7 [==============================] - 87s 12s/step - loss: 0.0020 - accuracy: 1.0000\n",
            "Epoch 27/50\n",
            "7/7 [==============================] - 87s 12s/step - loss: 5.7923e-04 - accuracy: 1.0000\n",
            "Epoch 28/50\n",
            "7/7 [==============================] - 87s 12s/step - loss: 5.4500e-06 - accuracy: 1.0000\n",
            "Epoch 29/50\n",
            "7/7 [==============================] - 86s 12s/step - loss: 1.4904e-04 - accuracy: 1.0000\n",
            "Epoch 30/50\n",
            "7/7 [==============================] - 87s 12s/step - loss: 2.2875e-04 - accuracy: 1.0000\n",
            "Epoch 31/50\n",
            "7/7 [==============================] - 87s 12s/step - loss: 7.5613e-06 - accuracy: 1.0000\n",
            "Epoch 32/50\n",
            "7/7 [==============================] - 86s 12s/step - loss: 1.1987e-05 - accuracy: 1.0000\n",
            "Epoch 33/50\n",
            "7/7 [==============================] - 87s 12s/step - loss: 4.3819e-06 - accuracy: 1.0000\n",
            "Epoch 34/50\n",
            "7/7 [==============================] - 87s 12s/step - loss: 1.3415e-06 - accuracy: 1.0000\n",
            "Epoch 35/50\n",
            "7/7 [==============================] - 87s 12s/step - loss: 2.6349e-06 - accuracy: 1.0000\n",
            "Epoch 36/50\n",
            "7/7 [==============================] - 87s 12s/step - loss: 8.5877e-07 - accuracy: 1.0000\n",
            "Epoch 37/50\n",
            "7/7 [==============================] - 87s 12s/step - loss: 5.6024e-05 - accuracy: 1.0000\n",
            "Epoch 38/50\n",
            "7/7 [==============================] - 87s 12s/step - loss: 6.8203e-07 - accuracy: 1.0000\n",
            "Epoch 39/50\n",
            "7/7 [==============================] - 87s 12s/step - loss: 4.8039e-07 - accuracy: 1.0000\n",
            "Epoch 40/50\n",
            "7/7 [==============================] - 86s 12s/step - loss: 2.3703e-06 - accuracy: 1.0000\n",
            "Epoch 41/50\n",
            "7/7 [==============================] - 86s 12s/step - loss: 1.6753e-06 - accuracy: 1.0000\n",
            "Epoch 42/50\n",
            "7/7 [==============================] - 87s 12s/step - loss: 1.2098e-06 - accuracy: 1.0000\n",
            "Epoch 43/50\n",
            "7/7 [==============================] - 86s 12s/step - loss: 9.8152e-07 - accuracy: 1.0000\n",
            "Epoch 44/50\n",
            "7/7 [==============================] - 86s 12s/step - loss: 5.2250e-07 - accuracy: 1.0000\n",
            "Epoch 45/50\n",
            "7/7 [==============================] - 86s 12s/step - loss: 1.2170e-06 - accuracy: 1.0000\n",
            "Epoch 46/50\n",
            "7/7 [==============================] - 86s 12s/step - loss: 1.6730e-06 - accuracy: 1.0000\n",
            "Epoch 47/50\n",
            "7/7 [==============================] - 86s 12s/step - loss: 1.4323e-06 - accuracy: 1.0000\n",
            "Epoch 48/50\n",
            "7/7 [==============================] - 86s 12s/step - loss: 1.4767e-06 - accuracy: 1.0000\n",
            "Epoch 49/50\n",
            "7/7 [==============================] - 86s 12s/step - loss: 9.6849e-07 - accuracy: 1.0000\n",
            "Epoch 50/50\n",
            "7/7 [==============================] - 86s 12s/step - loss: 8.9257e-07 - accuracy: 1.0000\n"
          ],
          "name": "stdout"
        },
        {
          "output_type": "execute_result",
          "data": {
            "text/plain": [
              "<tensorflow.python.keras.callbacks.History at 0x7f661387ed10>"
            ]
          },
          "metadata": {
            "tags": []
          },
          "execution_count": 28
        }
      ]
    },
    {
      "cell_type": "code",
      "metadata": {
        "colab": {
          "base_uri": "https://localhost:8080/",
          "height": 189
        },
        "id": "OQOLgZTOI37r",
        "outputId": "34d8dc9a-24c4-408e-c255-f8ca24c182ab"
      },
      "source": [
        "model.evaluate(X_test_scaled,y_test)\n",
        "model.summary()"
      ],
      "execution_count": null,
      "outputs": [
        {
          "output_type": "error",
          "ename": "NameError",
          "evalue": "ignored",
          "traceback": [
            "\u001b[0;31m---------------------------------------------------------------------------\u001b[0m",
            "\u001b[0;31mNameError\u001b[0m                                 Traceback (most recent call last)",
            "\u001b[0;32m<ipython-input-1-da880fe2642a>\u001b[0m in \u001b[0;36m<module>\u001b[0;34m()\u001b[0m\n\u001b[0;32m----> 1\u001b[0;31m \u001b[0mmodel\u001b[0m\u001b[0;34m.\u001b[0m\u001b[0mevaluate\u001b[0m\u001b[0;34m(\u001b[0m\u001b[0mX_test_scaled\u001b[0m\u001b[0;34m,\u001b[0m\u001b[0my_test\u001b[0m\u001b[0;34m)\u001b[0m\u001b[0;34m\u001b[0m\u001b[0;34m\u001b[0m\u001b[0m\n\u001b[0m\u001b[1;32m      2\u001b[0m \u001b[0mmodel\u001b[0m\u001b[0;34m.\u001b[0m\u001b[0msummary\u001b[0m\u001b[0;34m(\u001b[0m\u001b[0;34m)\u001b[0m\u001b[0;34m\u001b[0m\u001b[0;34m\u001b[0m\u001b[0m\n",
            "\u001b[0;31mNameError\u001b[0m: name 'model' is not defined"
          ]
        }
      ]
    },
    {
      "cell_type": "code",
      "metadata": {
        "id": "pkH_AV7cJA8A",
        "colab": {
          "base_uri": "https://localhost:8080/"
        },
        "outputId": "19d37199-2321-4d83-cadb-89b4f1be0e2c"
      },
      "source": [
        "from sklearn.metrics import confusion_matrix , classification_report\n",
        "import numpy as np\n",
        "y_predict =  model.predict(X_test_scaled)\n",
        "y_predict_classes = [np.argmax(element) for element in y_predict]\n",
        "print(\"Classification Report: \\n\", classification_report(y_test, y_predict_classes))\n",
        "cm = tf.math.confusion_matrix(labels=y_test,predictions=y_predict_classes)\n",
        "cm"
      ],
      "execution_count": null,
      "outputs": [
        {
          "output_type": "stream",
          "text": [
            "Classification Report: \n",
            "               precision    recall  f1-score   support\n",
            "\n",
            "           0       0.75      0.67      0.71        18\n",
            "           1       0.47      0.44      0.46        18\n",
            "           2       0.68      0.89      0.77        19\n",
            "           3       0.82      0.52      0.64        27\n",
            "           4       0.58      0.82      0.68        17\n",
            "\n",
            "    accuracy                           0.66        99\n",
            "   macro avg       0.66      0.67      0.65        99\n",
            "weighted avg       0.68      0.66      0.65        99\n",
            "\n"
          ],
          "name": "stdout"
        },
        {
          "output_type": "execute_result",
          "data": {
            "text/plain": [
              "<tf.Tensor: shape=(5, 5), dtype=int32, numpy=\n",
              "array([[12,  0,  5,  0,  1],\n",
              "       [ 1,  8,  3,  2,  4],\n",
              "       [ 1,  1, 17,  0,  0],\n",
              "       [ 2,  6,  0, 14,  5],\n",
              "       [ 0,  2,  0,  1, 14]], dtype=int32)>"
            ]
          },
          "metadata": {
            "tags": []
          },
          "execution_count": 22
        }
      ]
    },
    {
      "cell_type": "code",
      "metadata": {
        "id": "SM0IY7CQJNZI",
        "colab": {
          "base_uri": "https://localhost:8080/",
          "height": 460
        },
        "outputId": "959330ac-3ebb-409c-c765-8a00530f454c"
      },
      "source": [
        "import seaborn as sn\n",
        "plt.figure(figsize = (10,7))\n",
        "sn.heatmap(cm, annot=True, fmt='d')\n",
        "plt.xlabel('Predicted')\n",
        "plt.ylabel('Truth')"
      ],
      "execution_count": null,
      "outputs": [
        {
          "output_type": "execute_result",
          "data": {
            "text/plain": [
              "Text(69.0, 0.5, 'Truth')"
            ]
          },
          "metadata": {
            "tags": []
          },
          "execution_count": 23
        },
        {
          "output_type": "display_data",
          "data": {
            "image/png": "[encoded data removed]",
            "text/plain": [
              "<Figure size 720x504 with 2 Axes>"
            ]
          },
          "metadata": {
            "tags": [],
            "needs_background": "light"
          }
        }
      ]
    },
    {
      "cell_type": "code",
      "metadata": {
        "id": "wUjKX9U6Jl0U"
      },
      "source": [
        "layer = model.layers\n",
        "filters, biases = model.layers[4].get_weights()\n",
        "print(layer[4].name, filters.shape)"
      ],
      "execution_count": null,
      "outputs": []
    },
    {
      "cell_type": "code",
      "metadata": {
        "id": "eN2bgHadKElp"
      },
      "source": [
        "fig1 = plt.figure(figsize = (4,4))\n",
        "columns=5\n",
        "rows = 5\n",
        "n_filters = columns*rows\n",
        "for i in range(1, n_filters + 1):\n",
        "  f =  filters[:, :, :, i-1]\n",
        "  fig1 = plt.subplot(rows,columns,i)\n",
        "  fig1.set_xticks([])\n",
        "  fig1.set_yticks([])\n",
        "  plt.imshow(f[:,:,0], cmap='gray')\n",
        "\n",
        "plt.show()"
      ],
      "execution_count": null,
      "outputs": []
    },
    {
      "cell_type": "code",
      "metadata": {
        "id": "BvsetgLKLo5k"
      },
      "source": [
        "conv_layer_index = [0,2,4]  #TO define a shorter model\n",
        "outputs = [model.layers[i].output for i in conv_layer_index]\n",
        "model_short = Model(inputs=model.inputs, outputs=outputs)\n",
        "print(model_short.summary())"
      ],
      "execution_count": null,
      "outputs": []
    },
    {
      "cell_type": "code",
      "metadata": {
        "id": "A10GQUDiMA58"
      },
      "source": [
        "from keras.preprocessing.image import load_img, img_to_array\n",
        "img = load_img('/content/drive/MyDrive/Dataset 30 New/Spiral Galaxy/thumb-IC2486.png', target_size=(180, 180)) #VGG user 224 as input"
      ],
      "execution_count": null,
      "outputs": []
    },
    {
      "cell_type": "code",
      "metadata": {
        "id": "mW44xCHpNUpN"
      },
      "source": [
        "img"
      ],
      "execution_count": null,
      "outputs": []
    },
    {
      "cell_type": "code",
      "metadata": {
        "id": "CA2yJ4XENbTu"
      },
      "source": [
        "img = img_to_array(img)\n",
        "# expand dimensions to match the shape of model input\n",
        "img = np.expand_dims(img, axis=0)\n",
        "# Generate feature output by predicting on the input image\n",
        "feature_output = model_short.predict(img)"
      ],
      "execution_count": null,
      "outputs": []
    },
    {
      "cell_type": "code",
      "metadata": {
        "id": "R5Z8hpKNOvHB"
      },
      "source": [
        "columns = 5\n",
        "rows = 5\n",
        "for ftr in feature_output:\n",
        "    #pos = 1\n",
        "    fig=plt.figure(figsize=(8,8))\n",
        "    for i in range(1, columns*rows +1):\n",
        "        fig =plt.subplot(rows, columns, i)\n",
        "        fig.set_xticks([])  #Turn off axis\n",
        "        fig.set_yticks([])\n",
        "        plt.imshow(ftr[0, :, :, i-1], cmap='gray')\n",
        "        #pos += 1\n",
        "    plt.show()"
      ],
      "execution_count": null,
      "outputs": []
    },
    {
      "cell_type": "code",
      "metadata": {
        "id": "3hHpxpyEM2UO"
      },
      "source": [
        "plt.figure(figsize=(12, 8))\n",
        "plt.plot(hist.epoch, hist.history['loss'], label='Training Loss')\n",
        "plt.plot(\n",
        "    hist.epoch, hist.history['loss'], label='Validation', linestyle='--')\n",
        "plt.xlabel(\"Epochs\")\n",
        "plt.ylabel(\"RMSE\")\n",
        "plt.legend()\n",
        "plt.show()"
      ],
      "execution_count": null,
      "outputs": []
    }
  ]
}